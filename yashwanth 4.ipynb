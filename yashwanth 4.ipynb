{
 "cells": [
  {
   "cell_type": "code",
   "execution_count": 1,
   "id": "01f6ba25-7205-44ce-adae-295c73835aec",
   "metadata": {},
   "outputs": [
    {
     "name": "stdout",
     "output_type": "stream",
     "text": [
      "[10 20 30 40 50]\n",
      "[6 2 9 7 1]\n",
      "[16 22 39 47 51]\n",
      "[ 4 18 21 33 49]\n",
      "[ 60  40 270 280  50]\n",
      "[ 1.66666667 10.          3.33333333  5.71428571 50.        ]\n"
     ]
    }
   ],
   "source": [
    "import numpy as np\n",
    "arr1 =[10,20,30,40,50]\n",
    "arr2 =[6,2,9,7,1]\n",
    "a=np.array(arr1)\n",
    "b=np.array(arr2)\n",
    "print(a)\n",
    "print(b)\n",
    "print(a+b)\n",
    "print(a-b)\n",
    "print(a*b)\n",
    "print(a/b)\n",
    "      \n",
    "       "
   ]
  },
  {
   "cell_type": "code",
   "execution_count": 3,
   "id": "386f6ec1-ad28-476f-92e1-c6f33c5518c0",
   "metadata": {},
   "outputs": [
    {
     "name": "stdout",
     "output_type": "stream",
     "text": [
      "700\n",
      "scalar value: 3\n",
      "array: [10 20 30 40 50]\n",
      "result: [ 30  60  90 120 150]\n"
     ]
    }
   ],
   "source": [
    "print(a.dot(b))\n",
    "sclr=3\n",
    "print(\"scalar value:\",sclr)\n",
    "print(\"array:\",a)\n",
    "print(\"result:\",a*sclr)"
   ]
  },
  {
   "cell_type": "code",
   "execution_count": 8,
   "id": "bfec6114-7c70-410e-a8a8-a4f43ce83ee2",
   "metadata": {},
   "outputs": [
    {
     "name": "stdout",
     "output_type": "stream",
     "text": [
      "[[1 6]\n",
      " [0 4]]\n"
     ]
    }
   ],
   "source": [
    "import numpy as np\n",
    "a=np.array([[10,20],[30,40]])\n",
    "b=np.array([[3,7],[5,9]])\n",
    "print (a%b)"
   ]
  },
  {
   "cell_type": "code",
   "execution_count": 19,
   "id": "b19c035a-710f-4742-99ab-6c835369dda2",
   "metadata": {},
   "outputs": [
    {
     "name": "stdout",
     "output_type": "stream",
     "text": [
      "array1: [10, 20, 30, 40]\n",
      "array2: [2, 10, 35, 25]\n",
      "result: [ 8 10 65 15]\n"
     ]
    }
   ],
   "source": [
    "def my_func(x,y):\n",
    "    if x>y:\n",
    "        return x-y\n",
    "    else:\n",
    "        return x+y \n",
    "arr1 = [10,20,30,40]\n",
    "arr2 = [2,10,35,25]\n",
    "vect_func=np.vectorize(my_func)\n",
    "print(\"array1:\",arr1)\n",
    "print(\"array2:\",arr2)\n",
    "print(\"result:\",vect_func(arr1,arr2))   "
   ]
  },
  {
   "cell_type": "code",
   "execution_count": null,
   "id": "9eb697c4-0ab8-4649-b2c9-96cecda00fd5",
   "metadata": {},
   "outputs": [],
   "source": []
  },
  {
   "cell_type": "code",
   "execution_count": null,
   "id": "817d698d-cbd3-4cf6-b0e0-f2bfed1ac775",
   "metadata": {},
   "outputs": [],
   "source": []
  }
 ],
 "metadata": {
  "kernelspec": {
   "display_name": "Python 3 (ipykernel)",
   "language": "python",
   "name": "python3"
  },
  "language_info": {
   "codemirror_mode": {
    "name": "ipython",
    "version": 3
   },
   "file_extension": ".py",
   "mimetype": "text/x-python",
   "name": "python",
   "nbconvert_exporter": "python",
   "pygments_lexer": "ipython3",
   "version": "3.12.7"
  }
 },
 "nbformat": 4,
 "nbformat_minor": 5
}
